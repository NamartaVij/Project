{
 "cells": [
  {
   "cell_type": "code",
   "execution_count": 72,
   "id": "b50972f1",
   "metadata": {},
   "outputs": [
    {
     "ename": "SyntaxError",
     "evalue": "invalid syntax (3096478531.py, line 1)",
     "output_type": "error",
     "traceback": [
      "\u001b[0;36m  Cell \u001b[0;32mIn [72], line 1\u001b[0;36m\u001b[0m\n\u001b[0;31m    **importing Dependencies**\u001b[0m\n\u001b[0m    ^\u001b[0m\n\u001b[0;31mSyntaxError\u001b[0m\u001b[0;31m:\u001b[0m invalid syntax\n"
     ]
    }
   ],
   "source": [
    "*********importing Dependencies********"
   ]
  },
  {
   "cell_type": "code",
   "execution_count": 47,
   "id": "48d56cdf",
   "metadata": {},
   "outputs": [
    {
     "name": "stdout",
     "output_type": "stream",
     "text": [
      "Dependencies Imported\n"
     ]
    }
   ],
   "source": [
    "import os\n",
    "import numpy as np\n",
    "import pandas as pd\n",
    "import matplotlib.pyplot as plt\n",
    "import seaborn as sns\n",
    "print('Dependencies Imported')"
   ]
  },
  {
   "cell_type": "code",
   "execution_count": null,
   "id": "583d004a",
   "metadata": {},
   "outputs": [],
   "source": [
    "**********upload the dataset**************"
   ]
  },
  {
   "cell_type": "code",
   "execution_count": 10,
   "id": "dff0f895",
   "metadata": {},
   "outputs": [],
   "source": [
    "df = pd.read_csv('desktop/Coursera.csv')"
   ]
  },
  {
   "cell_type": "code",
   "execution_count": 11,
   "id": "0b858ed5",
   "metadata": {},
   "outputs": [
    {
     "data": {
      "text/html": [
       "<div>\n",
       "<style scoped>\n",
       "    .dataframe tbody tr th:only-of-type {\n",
       "        vertical-align: middle;\n",
       "    }\n",
       "\n",
       "    .dataframe tbody tr th {\n",
       "        vertical-align: top;\n",
       "    }\n",
       "\n",
       "    .dataframe thead th {\n",
       "        text-align: right;\n",
       "    }\n",
       "</style>\n",
       "<table border=\"1\" class=\"dataframe\">\n",
       "  <thead>\n",
       "    <tr style=\"text-align: right;\">\n",
       "      <th></th>\n",
       "      <th>Course Name</th>\n",
       "      <th>University</th>\n",
       "      <th>Difficulty Level</th>\n",
       "      <th>Course Rating</th>\n",
       "      <th>Course URL</th>\n",
       "      <th>Course Description</th>\n",
       "      <th>Skills</th>\n",
       "    </tr>\n",
       "  </thead>\n",
       "  <tbody>\n",
       "    <tr>\n",
       "      <th>0</th>\n",
       "      <td>Write A Feature Length Screenplay For Film Or ...</td>\n",
       "      <td>Michigan State University</td>\n",
       "      <td>Beginner</td>\n",
       "      <td>4.8</td>\n",
       "      <td>https://www.coursera.org/learn/write-a-feature...</td>\n",
       "      <td>Write a Full Length Feature Film Script  In th...</td>\n",
       "      <td>Drama  Comedy  peering  screenwriting  film  D...</td>\n",
       "    </tr>\n",
       "    <tr>\n",
       "      <th>1</th>\n",
       "      <td>Business Strategy: Business Model Canvas Analy...</td>\n",
       "      <td>Coursera Project Network</td>\n",
       "      <td>Beginner</td>\n",
       "      <td>4.8</td>\n",
       "      <td>https://www.coursera.org/learn/canvas-analysis...</td>\n",
       "      <td>By the end of this guided project, you will be...</td>\n",
       "      <td>Finance  business plan  persona (user experien...</td>\n",
       "    </tr>\n",
       "    <tr>\n",
       "      <th>2</th>\n",
       "      <td>Silicon Thin Film Solar Cells</td>\n",
       "      <td>�cole Polytechnique</td>\n",
       "      <td>Advanced</td>\n",
       "      <td>4.1</td>\n",
       "      <td>https://www.coursera.org/learn/silicon-thin-fi...</td>\n",
       "      <td>This course consists of a general presentation...</td>\n",
       "      <td>chemistry  physics  Solar Energy  film  lambda...</td>\n",
       "    </tr>\n",
       "    <tr>\n",
       "      <th>3</th>\n",
       "      <td>Finance for Managers</td>\n",
       "      <td>IESE Business School</td>\n",
       "      <td>Intermediate</td>\n",
       "      <td>4.8</td>\n",
       "      <td>https://www.coursera.org/learn/operational-fin...</td>\n",
       "      <td>When it comes to numbers, there is always more...</td>\n",
       "      <td>accounts receivable  dupont analysis  analysis...</td>\n",
       "    </tr>\n",
       "    <tr>\n",
       "      <th>4</th>\n",
       "      <td>Retrieve Data using Single-Table SQL Queries</td>\n",
       "      <td>Coursera Project Network</td>\n",
       "      <td>Beginner</td>\n",
       "      <td>4.6</td>\n",
       "      <td>https://www.coursera.org/learn/single-table-sq...</td>\n",
       "      <td>In this course you�ll learn how to effectively...</td>\n",
       "      <td>Data Analysis  select (sql)  database manageme...</td>\n",
       "    </tr>\n",
       "    <tr>\n",
       "      <th>...</th>\n",
       "      <td>...</td>\n",
       "      <td>...</td>\n",
       "      <td>...</td>\n",
       "      <td>...</td>\n",
       "      <td>...</td>\n",
       "      <td>...</td>\n",
       "      <td>...</td>\n",
       "    </tr>\n",
       "    <tr>\n",
       "      <th>3517</th>\n",
       "      <td>Capstone: Retrieving, Processing, and Visualiz...</td>\n",
       "      <td>University of Michigan</td>\n",
       "      <td>Beginner</td>\n",
       "      <td>4.6</td>\n",
       "      <td>https://www.coursera.org/learn/python-data-vis...</td>\n",
       "      <td>In the capstone, students will build a series ...</td>\n",
       "      <td>Databases  syntax  analysis  web  Data Visuali...</td>\n",
       "    </tr>\n",
       "    <tr>\n",
       "      <th>3518</th>\n",
       "      <td>Patrick Henry: Forgotten Founder</td>\n",
       "      <td>University of Virginia</td>\n",
       "      <td>Intermediate</td>\n",
       "      <td>4.9</td>\n",
       "      <td>https://www.coursera.org/learn/henry</td>\n",
       "      <td>�Give me liberty, or give me death:� Rememberi...</td>\n",
       "      <td>retirement  Causality  career  history of the ...</td>\n",
       "    </tr>\n",
       "    <tr>\n",
       "      <th>3519</th>\n",
       "      <td>Business intelligence and data analytics: Gene...</td>\n",
       "      <td>Macquarie University</td>\n",
       "      <td>Advanced</td>\n",
       "      <td>4.6</td>\n",
       "      <td>https://www.coursera.org/learn/business-intell...</td>\n",
       "      <td>�Megatrends� heavily influence today�s organis...</td>\n",
       "      <td>analytics  tableau software  Business Intellig...</td>\n",
       "    </tr>\n",
       "    <tr>\n",
       "      <th>3520</th>\n",
       "      <td>Rigid Body Dynamics</td>\n",
       "      <td>Korea Advanced Institute of Science and Techno...</td>\n",
       "      <td>Beginner</td>\n",
       "      <td>4.6</td>\n",
       "      <td>https://www.coursera.org/learn/rigid-body-dyna...</td>\n",
       "      <td>This course teaches dynamics, one of the basic...</td>\n",
       "      <td>Angular  Mechanical Design  fluid mechanics  F...</td>\n",
       "    </tr>\n",
       "    <tr>\n",
       "      <th>3521</th>\n",
       "      <td>Architecting with Google Kubernetes Engine: Pr...</td>\n",
       "      <td>Google Cloud</td>\n",
       "      <td>Intermediate</td>\n",
       "      <td>4.7</td>\n",
       "      <td>https://www.coursera.org/learn/deploying-secur...</td>\n",
       "      <td>In this course, \"Architecting with Google Kube...</td>\n",
       "      <td>bigtable  bigquery  SQL  Google Cloud Platform...</td>\n",
       "    </tr>\n",
       "  </tbody>\n",
       "</table>\n",
       "<p>3522 rows × 7 columns</p>\n",
       "</div>"
      ],
      "text/plain": [
       "                                            Course Name  \\\n",
       "0     Write A Feature Length Screenplay For Film Or ...   \n",
       "1     Business Strategy: Business Model Canvas Analy...   \n",
       "2                         Silicon Thin Film Solar Cells   \n",
       "3                                  Finance for Managers   \n",
       "4          Retrieve Data using Single-Table SQL Queries   \n",
       "...                                                 ...   \n",
       "3517  Capstone: Retrieving, Processing, and Visualiz...   \n",
       "3518                   Patrick Henry: Forgotten Founder   \n",
       "3519  Business intelligence and data analytics: Gene...   \n",
       "3520                                Rigid Body Dynamics   \n",
       "3521  Architecting with Google Kubernetes Engine: Pr...   \n",
       "\n",
       "                                             University Difficulty Level  \\\n",
       "0                             Michigan State University         Beginner   \n",
       "1                              Coursera Project Network         Beginner   \n",
       "2                                   �cole Polytechnique         Advanced   \n",
       "3                                  IESE Business School     Intermediate   \n",
       "4                              Coursera Project Network         Beginner   \n",
       "...                                                 ...              ...   \n",
       "3517                             University of Michigan         Beginner   \n",
       "3518                             University of Virginia     Intermediate   \n",
       "3519                               Macquarie University         Advanced   \n",
       "3520  Korea Advanced Institute of Science and Techno...         Beginner   \n",
       "3521                                       Google Cloud     Intermediate   \n",
       "\n",
       "     Course Rating                                         Course URL  \\\n",
       "0              4.8  https://www.coursera.org/learn/write-a-feature...   \n",
       "1              4.8  https://www.coursera.org/learn/canvas-analysis...   \n",
       "2              4.1  https://www.coursera.org/learn/silicon-thin-fi...   \n",
       "3              4.8  https://www.coursera.org/learn/operational-fin...   \n",
       "4              4.6  https://www.coursera.org/learn/single-table-sq...   \n",
       "...            ...                                                ...   \n",
       "3517           4.6  https://www.coursera.org/learn/python-data-vis...   \n",
       "3518           4.9               https://www.coursera.org/learn/henry   \n",
       "3519           4.6  https://www.coursera.org/learn/business-intell...   \n",
       "3520           4.6  https://www.coursera.org/learn/rigid-body-dyna...   \n",
       "3521           4.7  https://www.coursera.org/learn/deploying-secur...   \n",
       "\n",
       "                                     Course Description  \\\n",
       "0     Write a Full Length Feature Film Script  In th...   \n",
       "1     By the end of this guided project, you will be...   \n",
       "2     This course consists of a general presentation...   \n",
       "3     When it comes to numbers, there is always more...   \n",
       "4     In this course you�ll learn how to effectively...   \n",
       "...                                                 ...   \n",
       "3517  In the capstone, students will build a series ...   \n",
       "3518  �Give me liberty, or give me death:� Rememberi...   \n",
       "3519  �Megatrends� heavily influence today�s organis...   \n",
       "3520  This course teaches dynamics, one of the basic...   \n",
       "3521  In this course, \"Architecting with Google Kube...   \n",
       "\n",
       "                                                 Skills  \n",
       "0     Drama  Comedy  peering  screenwriting  film  D...  \n",
       "1     Finance  business plan  persona (user experien...  \n",
       "2     chemistry  physics  Solar Energy  film  lambda...  \n",
       "3     accounts receivable  dupont analysis  analysis...  \n",
       "4     Data Analysis  select (sql)  database manageme...  \n",
       "...                                                 ...  \n",
       "3517  Databases  syntax  analysis  web  Data Visuali...  \n",
       "3518  retirement  Causality  career  history of the ...  \n",
       "3519  analytics  tableau software  Business Intellig...  \n",
       "3520  Angular  Mechanical Design  fluid mechanics  F...  \n",
       "3521  bigtable  bigquery  SQL  Google Cloud Platform...  \n",
       "\n",
       "[3522 rows x 7 columns]"
      ]
     },
     "execution_count": 11,
     "metadata": {},
     "output_type": "execute_result"
    }
   ],
   "source": [
    "df"
   ]
  },
  {
   "cell_type": "code",
   "execution_count": null,
   "id": "d0c36002",
   "metadata": {},
   "outputs": [],
   "source": [
    "********basic data analysis********"
   ]
  },
  {
   "cell_type": "code",
   "execution_count": 12,
   "id": "1efef0e1",
   "metadata": {},
   "outputs": [
    {
     "data": {
      "text/plain": [
       "(3522, 7)"
      ]
     },
     "execution_count": 12,
     "metadata": {},
     "output_type": "execute_result"
    }
   ],
   "source": [
    "df.shape"
   ]
  },
  {
   "cell_type": "code",
   "execution_count": 13,
   "id": "0996afc3",
   "metadata": {},
   "outputs": [
    {
     "data": {
      "text/plain": [
       "<bound method DataFrame.info of                                             Course Name  \\\n",
       "0     Write A Feature Length Screenplay For Film Or ...   \n",
       "1     Business Strategy: Business Model Canvas Analy...   \n",
       "2                         Silicon Thin Film Solar Cells   \n",
       "3                                  Finance for Managers   \n",
       "4          Retrieve Data using Single-Table SQL Queries   \n",
       "...                                                 ...   \n",
       "3517  Capstone: Retrieving, Processing, and Visualiz...   \n",
       "3518                   Patrick Henry: Forgotten Founder   \n",
       "3519  Business intelligence and data analytics: Gene...   \n",
       "3520                                Rigid Body Dynamics   \n",
       "3521  Architecting with Google Kubernetes Engine: Pr...   \n",
       "\n",
       "                                             University Difficulty Level  \\\n",
       "0                             Michigan State University         Beginner   \n",
       "1                              Coursera Project Network         Beginner   \n",
       "2                                   �cole Polytechnique         Advanced   \n",
       "3                                  IESE Business School     Intermediate   \n",
       "4                              Coursera Project Network         Beginner   \n",
       "...                                                 ...              ...   \n",
       "3517                             University of Michigan         Beginner   \n",
       "3518                             University of Virginia     Intermediate   \n",
       "3519                               Macquarie University         Advanced   \n",
       "3520  Korea Advanced Institute of Science and Techno...         Beginner   \n",
       "3521                                       Google Cloud     Intermediate   \n",
       "\n",
       "     Course Rating                                         Course URL  \\\n",
       "0              4.8  https://www.coursera.org/learn/write-a-feature...   \n",
       "1              4.8  https://www.coursera.org/learn/canvas-analysis...   \n",
       "2              4.1  https://www.coursera.org/learn/silicon-thin-fi...   \n",
       "3              4.8  https://www.coursera.org/learn/operational-fin...   \n",
       "4              4.6  https://www.coursera.org/learn/single-table-sq...   \n",
       "...            ...                                                ...   \n",
       "3517           4.6  https://www.coursera.org/learn/python-data-vis...   \n",
       "3518           4.9               https://www.coursera.org/learn/henry   \n",
       "3519           4.6  https://www.coursera.org/learn/business-intell...   \n",
       "3520           4.6  https://www.coursera.org/learn/rigid-body-dyna...   \n",
       "3521           4.7  https://www.coursera.org/learn/deploying-secur...   \n",
       "\n",
       "                                     Course Description  \\\n",
       "0     Write a Full Length Feature Film Script  In th...   \n",
       "1     By the end of this guided project, you will be...   \n",
       "2     This course consists of a general presentation...   \n",
       "3     When it comes to numbers, there is always more...   \n",
       "4     In this course you�ll learn how to effectively...   \n",
       "...                                                 ...   \n",
       "3517  In the capstone, students will build a series ...   \n",
       "3518  �Give me liberty, or give me death:� Rememberi...   \n",
       "3519  �Megatrends� heavily influence today�s organis...   \n",
       "3520  This course teaches dynamics, one of the basic...   \n",
       "3521  In this course, \"Architecting with Google Kube...   \n",
       "\n",
       "                                                 Skills  \n",
       "0     Drama  Comedy  peering  screenwriting  film  D...  \n",
       "1     Finance  business plan  persona (user experien...  \n",
       "2     chemistry  physics  Solar Energy  film  lambda...  \n",
       "3     accounts receivable  dupont analysis  analysis...  \n",
       "4     Data Analysis  select (sql)  database manageme...  \n",
       "...                                                 ...  \n",
       "3517  Databases  syntax  analysis  web  Data Visuali...  \n",
       "3518  retirement  Causality  career  history of the ...  \n",
       "3519  analytics  tableau software  Business Intellig...  \n",
       "3520  Angular  Mechanical Design  fluid mechanics  F...  \n",
       "3521  bigtable  bigquery  SQL  Google Cloud Platform...  \n",
       "\n",
       "[3522 rows x 7 columns]>"
      ]
     },
     "execution_count": 13,
     "metadata": {},
     "output_type": "execute_result"
    }
   ],
   "source": [
    "df.info"
   ]
  },
  {
   "cell_type": "code",
   "execution_count": 14,
   "id": "da9b77da",
   "metadata": {},
   "outputs": [
    {
     "data": {
      "text/plain": [
       "Course Name           0\n",
       "University            0\n",
       "Difficulty Level      0\n",
       "Course Rating         0\n",
       "Course URL            0\n",
       "Course Description    0\n",
       "Skills                0\n",
       "dtype: int64"
      ]
     },
     "execution_count": 14,
     "metadata": {},
     "output_type": "execute_result"
    }
   ],
   "source": [
    "df.isnull().sum()"
   ]
  },
  {
   "cell_type": "code",
   "execution_count": null,
   "id": "4fedb26c",
   "metadata": {},
   "outputs": [],
   "source": [
    "********reuqired columns for the model******"
   ]
  },
  {
   "cell_type": "code",
   "execution_count": 15,
   "id": "c42eec81",
   "metadata": {},
   "outputs": [],
   "source": [
    "df = df[['Course Name','Difficulty Level','Course Description','Skills']]\n"
   ]
  },
  {
   "cell_type": "code",
   "execution_count": null,
   "id": "d7ac1fd3",
   "metadata": {},
   "outputs": [],
   "source": [
    "******removing space between the words********"
   ]
  },
  {
   "cell_type": "code",
   "execution_count": 48,
   "id": "cb816bac",
   "metadata": {},
   "outputs": [
    {
     "name": "stderr",
     "output_type": "stream",
     "text": [
      "/var/folders/1r/9h5fqfbj7f77l6k9sl83hzfm0000gn/T/ipykernel_2294/3498464820.py:1: SettingWithCopyWarning: \n",
      "A value is trying to be set on a copy of a slice from a DataFrame.\n",
      "Try using .loc[row_indexer,col_indexer] = value instead\n",
      "\n",
      "See the caveats in the documentation: https://pandas.pydata.org/pandas-docs/stable/user_guide/indexing.html#returning-a-view-versus-a-copy\n",
      "  df['Course Name'] = df['Course Name'].str.replace(' ',',')\n",
      "/var/folders/1r/9h5fqfbj7f77l6k9sl83hzfm0000gn/T/ipykernel_2294/3498464820.py:2: SettingWithCopyWarning: \n",
      "A value is trying to be set on a copy of a slice from a DataFrame.\n",
      "Try using .loc[row_indexer,col_indexer] = value instead\n",
      "\n",
      "See the caveats in the documentation: https://pandas.pydata.org/pandas-docs/stable/user_guide/indexing.html#returning-a-view-versus-a-copy\n",
      "  df['Course Name'] = df['Course Name'].str.replace(',,',',')\n",
      "/var/folders/1r/9h5fqfbj7f77l6k9sl83hzfm0000gn/T/ipykernel_2294/3498464820.py:3: SettingWithCopyWarning: \n",
      "A value is trying to be set on a copy of a slice from a DataFrame.\n",
      "Try using .loc[row_indexer,col_indexer] = value instead\n",
      "\n",
      "See the caveats in the documentation: https://pandas.pydata.org/pandas-docs/stable/user_guide/indexing.html#returning-a-view-versus-a-copy\n",
      "  df['Course Name'] = df['Course Name'].str.replace(':','')\n",
      "/var/folders/1r/9h5fqfbj7f77l6k9sl83hzfm0000gn/T/ipykernel_2294/3498464820.py:4: SettingWithCopyWarning: \n",
      "A value is trying to be set on a copy of a slice from a DataFrame.\n",
      "Try using .loc[row_indexer,col_indexer] = value instead\n",
      "\n",
      "See the caveats in the documentation: https://pandas.pydata.org/pandas-docs/stable/user_guide/indexing.html#returning-a-view-versus-a-copy\n",
      "  df['Course Description'] = df['Course Description'].str.replace(' ',',')\n",
      "/var/folders/1r/9h5fqfbj7f77l6k9sl83hzfm0000gn/T/ipykernel_2294/3498464820.py:5: SettingWithCopyWarning: \n",
      "A value is trying to be set on a copy of a slice from a DataFrame.\n",
      "Try using .loc[row_indexer,col_indexer] = value instead\n",
      "\n",
      "See the caveats in the documentation: https://pandas.pydata.org/pandas-docs/stable/user_guide/indexing.html#returning-a-view-versus-a-copy\n",
      "  df['Course Description'] = df['Course Description'].str.replace(',,',',')\n",
      "/var/folders/1r/9h5fqfbj7f77l6k9sl83hzfm0000gn/T/ipykernel_2294/3498464820.py:6: SettingWithCopyWarning: \n",
      "A value is trying to be set on a copy of a slice from a DataFrame.\n",
      "Try using .loc[row_indexer,col_indexer] = value instead\n",
      "\n",
      "See the caveats in the documentation: https://pandas.pydata.org/pandas-docs/stable/user_guide/indexing.html#returning-a-view-versus-a-copy\n",
      "  df['Course Description'] = df['Course Description'].str.replace('_','')\n",
      "/var/folders/1r/9h5fqfbj7f77l6k9sl83hzfm0000gn/T/ipykernel_2294/3498464820.py:7: SettingWithCopyWarning: \n",
      "A value is trying to be set on a copy of a slice from a DataFrame.\n",
      "Try using .loc[row_indexer,col_indexer] = value instead\n",
      "\n",
      "See the caveats in the documentation: https://pandas.pydata.org/pandas-docs/stable/user_guide/indexing.html#returning-a-view-versus-a-copy\n",
      "  df['Course Description'] = df['Course Description'].str.replace(':','')\n",
      "/var/folders/1r/9h5fqfbj7f77l6k9sl83hzfm0000gn/T/ipykernel_2294/3498464820.py:8: FutureWarning: The default value of regex will change from True to False in a future version. In addition, single character regular expressions will *not* be treated as literal strings when regex=True.\n",
      "  df['Course Description'] = df['Course Description'].str.replace('(','')\n",
      "/var/folders/1r/9h5fqfbj7f77l6k9sl83hzfm0000gn/T/ipykernel_2294/3498464820.py:8: SettingWithCopyWarning: \n",
      "A value is trying to be set on a copy of a slice from a DataFrame.\n",
      "Try using .loc[row_indexer,col_indexer] = value instead\n",
      "\n",
      "See the caveats in the documentation: https://pandas.pydata.org/pandas-docs/stable/user_guide/indexing.html#returning-a-view-versus-a-copy\n",
      "  df['Course Description'] = df['Course Description'].str.replace('(','')\n",
      "/var/folders/1r/9h5fqfbj7f77l6k9sl83hzfm0000gn/T/ipykernel_2294/3498464820.py:9: FutureWarning: The default value of regex will change from True to False in a future version. In addition, single character regular expressions will *not* be treated as literal strings when regex=True.\n",
      "  df['Course Description'] = df['Course Description'].str.replace(')','')\n",
      "/var/folders/1r/9h5fqfbj7f77l6k9sl83hzfm0000gn/T/ipykernel_2294/3498464820.py:9: SettingWithCopyWarning: \n",
      "A value is trying to be set on a copy of a slice from a DataFrame.\n",
      "Try using .loc[row_indexer,col_indexer] = value instead\n",
      "\n",
      "See the caveats in the documentation: https://pandas.pydata.org/pandas-docs/stable/user_guide/indexing.html#returning-a-view-versus-a-copy\n",
      "  df['Course Description'] = df['Course Description'].str.replace(')','')\n"
     ]
    }
   ],
   "source": [
    " df['Course Name'] = df['Course Name'].str.replace(' ',',')\n",
    "df['Course Name'] = df['Course Name'].str.replace(',,',',')\n",
    "df['Course Name'] = df['Course Name'].str.replace(':','')\n",
    "df['Course Description'] = df['Course Description'].str.replace(' ',',')\n",
    "df['Course Description'] = df['Course Description'].str.replace(',,',',')\n",
    "df['Course Description'] = df['Course Description'].str.replace('_','')\n",
    "df['Course Description'] = df['Course Description'].str.replace(':','')\n",
    "df['Course Description'] = df['Course Description'].str.replace('(','')\n",
    "df['Course Description'] = df['Course Description'].str.replace(')','')\n",
    "\n"
   ]
  },
  {
   "cell_type": "code",
   "execution_count": null,
   "id": "d17c5d17",
   "metadata": {},
   "outputs": [],
   "source": [
    "******** removing paranthesis from skills columns****"
   ]
  },
  {
   "cell_type": "code",
   "execution_count": 49,
   "id": "a9ef7666",
   "metadata": {
    "scrolled": true
   },
   "outputs": [
    {
     "name": "stderr",
     "output_type": "stream",
     "text": [
      "/var/folders/1r/9h5fqfbj7f77l6k9sl83hzfm0000gn/T/ipykernel_2294/1231907012.py:1: FutureWarning: The default value of regex will change from True to False in a future version. In addition, single character regular expressions will *not* be treated as literal strings when regex=True.\n",
      "  df['Skills'] = df['Skills'].str.replace('(',' ')\n",
      "/var/folders/1r/9h5fqfbj7f77l6k9sl83hzfm0000gn/T/ipykernel_2294/1231907012.py:1: SettingWithCopyWarning: \n",
      "A value is trying to be set on a copy of a slice from a DataFrame.\n",
      "Try using .loc[row_indexer,col_indexer] = value instead\n",
      "\n",
      "See the caveats in the documentation: https://pandas.pydata.org/pandas-docs/stable/user_guide/indexing.html#returning-a-view-versus-a-copy\n",
      "  df['Skills'] = df['Skills'].str.replace('(',' ')\n",
      "/var/folders/1r/9h5fqfbj7f77l6k9sl83hzfm0000gn/T/ipykernel_2294/1231907012.py:2: FutureWarning: The default value of regex will change from True to False in a future version. In addition, single character regular expressions will *not* be treated as literal strings when regex=True.\n",
      "  df['Skills'] = df['Skills'].str.replace(')',' ')\n",
      "/var/folders/1r/9h5fqfbj7f77l6k9sl83hzfm0000gn/T/ipykernel_2294/1231907012.py:2: SettingWithCopyWarning: \n",
      "A value is trying to be set on a copy of a slice from a DataFrame.\n",
      "Try using .loc[row_indexer,col_indexer] = value instead\n",
      "\n",
      "See the caveats in the documentation: https://pandas.pydata.org/pandas-docs/stable/user_guide/indexing.html#returning-a-view-versus-a-copy\n",
      "  df['Skills'] = df['Skills'].str.replace(')',' ')\n"
     ]
    }
   ],
   "source": [
    "df['Skills'] = df['Skills'].str.replace('(',' ')\n",
    "df['Skills'] = df['Skills'].str.replace(')',' ')"
   ]
  },
  {
   "cell_type": "code",
   "execution_count": 18,
   "id": "e1949603",
   "metadata": {},
   "outputs": [
    {
     "data": {
      "text/plain": [
       "<bound method NDFrame.head of                                             Course Name Difficulty Level  \\\n",
       "0     Write A Feature Length Screenplay For Film Or ...         Beginner   \n",
       "1     Business Strategy: Business Model Canvas Analy...         Beginner   \n",
       "2                         Silicon Thin Film Solar Cells         Advanced   \n",
       "3                                  Finance for Managers     Intermediate   \n",
       "4          Retrieve Data using Single-Table SQL Queries         Beginner   \n",
       "...                                                 ...              ...   \n",
       "3517  Capstone: Retrieving, Processing, and Visualiz...         Beginner   \n",
       "3518                   Patrick Henry: Forgotten Founder     Intermediate   \n",
       "3519  Business intelligence and data analytics: Gene...         Advanced   \n",
       "3520                                Rigid Body Dynamics         Beginner   \n",
       "3521  Architecting with Google Kubernetes Engine: Pr...     Intermediate   \n",
       "\n",
       "                                     Course Description  \\\n",
       "0     Write a Full Length Feature Film Script  In th...   \n",
       "1     By the end of this guided project, you will be...   \n",
       "2     This course consists of a general presentation...   \n",
       "3     When it comes to numbers, there is always more...   \n",
       "4     In this course you�ll learn how to effectively...   \n",
       "...                                                 ...   \n",
       "3517  In the capstone, students will build a series ...   \n",
       "3518  �Give me liberty, or give me death:� Rememberi...   \n",
       "3519  �Megatrends� heavily influence today�s organis...   \n",
       "3520  This course teaches dynamics, one of the basic...   \n",
       "3521  In this course, \"Architecting with Google Kube...   \n",
       "\n",
       "                                                 Skills  \n",
       "0     Drama  Comedy  peering  screenwriting  film  D...  \n",
       "1     Finance  business plan  persona  user experien...  \n",
       "2     chemistry  physics  Solar Energy  film  lambda...  \n",
       "3     accounts receivable  dupont analysis  analysis...  \n",
       "4     Data Analysis  select  sql   database manageme...  \n",
       "...                                                 ...  \n",
       "3517  Databases  syntax  analysis  web  Data Visuali...  \n",
       "3518  retirement  Causality  career  history of the ...  \n",
       "3519  analytics  tableau software  Business Intellig...  \n",
       "3520  Angular  Mechanical Design  fluid mechanics  F...  \n",
       "3521  bigtable  bigquery  SQL  Google Cloud Platform...  \n",
       "\n",
       "[3522 rows x 4 columns]>"
      ]
     },
     "execution_count": 18,
     "metadata": {},
     "output_type": "execute_result"
    }
   ],
   "source": [
    "df.head"
   ]
  },
  {
   "cell_type": "code",
   "execution_count": null,
   "id": "ea8ca3c0",
   "metadata": {},
   "outputs": [],
   "source": [
    "******merging all columns in a single column named tag****88"
   ]
  },
  {
   "cell_type": "code",
   "execution_count": 50,
   "id": "4593434f",
   "metadata": {
    "scrolled": true
   },
   "outputs": [
    {
     "name": "stderr",
     "output_type": "stream",
     "text": [
      "/var/folders/1r/9h5fqfbj7f77l6k9sl83hzfm0000gn/T/ipykernel_2294/2700227533.py:1: SettingWithCopyWarning: \n",
      "A value is trying to be set on a copy of a slice from a DataFrame.\n",
      "Try using .loc[row_indexer,col_indexer] = value instead\n",
      "\n",
      "See the caveats in the documentation: https://pandas.pydata.org/pandas-docs/stable/user_guide/indexing.html#returning-a-view-versus-a-copy\n",
      "  df['tags'] = df['Course Name'] + df['Difficulty Level'] + df['Course Description'] + df['Skills']\n"
     ]
    }
   ],
   "source": [
    "df['tags'] = df['Course Name'] + df['Difficulty Level'] + df['Course Description'] + df['Skills']\n"
   ]
  },
  {
   "cell_type": "code",
   "execution_count": 51,
   "id": "33c598b7",
   "metadata": {},
   "outputs": [
    {
     "data": {
      "text/html": [
       "<div>\n",
       "<style scoped>\n",
       "    .dataframe tbody tr th:only-of-type {\n",
       "        vertical-align: middle;\n",
       "    }\n",
       "\n",
       "    .dataframe tbody tr th {\n",
       "        vertical-align: top;\n",
       "    }\n",
       "\n",
       "    .dataframe thead th {\n",
       "        text-align: right;\n",
       "    }\n",
       "</style>\n",
       "<table border=\"1\" class=\"dataframe\">\n",
       "  <thead>\n",
       "    <tr style=\"text-align: right;\">\n",
       "      <th></th>\n",
       "      <th>Course Name</th>\n",
       "      <th>Difficulty Level</th>\n",
       "      <th>Course Description</th>\n",
       "      <th>Skills</th>\n",
       "      <th>tags</th>\n",
       "    </tr>\n",
       "  </thead>\n",
       "  <tbody>\n",
       "    <tr>\n",
       "      <th>0</th>\n",
       "      <td>Write,A,Feature,Length,Screenplay,For,Film,Or,...</td>\n",
       "      <td>Beginner</td>\n",
       "      <td>Write,a,Full,Length,Feature,Film,Script,In,thi...</td>\n",
       "      <td>Drama  Comedy  peering  screenwriting  film  D...</td>\n",
       "      <td>Write,A,Feature,Length,Screenplay,For,Film,Or,...</td>\n",
       "    </tr>\n",
       "    <tr>\n",
       "      <th>1</th>\n",
       "      <td>Business,Strategy,Business,Model,Canvas,Analys...</td>\n",
       "      <td>Beginner</td>\n",
       "      <td>By,the,end,of,this,guided,project,you,will,be,...</td>\n",
       "      <td>Finance  business plan  persona  user experien...</td>\n",
       "      <td>Business,Strategy,Business,Model,Canvas,Analys...</td>\n",
       "    </tr>\n",
       "    <tr>\n",
       "      <th>2</th>\n",
       "      <td>Silicon,Thin,Film,Solar,Cells</td>\n",
       "      <td>Advanced</td>\n",
       "      <td>This,course,consists,of,a,general,presentation...</td>\n",
       "      <td>chemistry  physics  Solar Energy  film  lambda...</td>\n",
       "      <td>Silicon,Thin,Film,Solar,CellsAdvancedThis,cour...</td>\n",
       "    </tr>\n",
       "    <tr>\n",
       "      <th>3</th>\n",
       "      <td>Finance,for,Managers</td>\n",
       "      <td>Intermediate</td>\n",
       "      <td>When,it,comes,to,numbers,there,is,always,more,...</td>\n",
       "      <td>accounts receivable  dupont analysis  analysis...</td>\n",
       "      <td>Finance,for,ManagersIntermediateWhen,it,comes,...</td>\n",
       "    </tr>\n",
       "    <tr>\n",
       "      <th>4</th>\n",
       "      <td>Retrieve,Data,using,Single-Table,SQL,Queries</td>\n",
       "      <td>Beginner</td>\n",
       "      <td>In,this,course,you�ll,learn,how,to,effectively...</td>\n",
       "      <td>Data Analysis  select  sql   database manageme...</td>\n",
       "      <td>Retrieve,Data,using,Single-Table,SQL,QueriesBe...</td>\n",
       "    </tr>\n",
       "  </tbody>\n",
       "</table>\n",
       "</div>"
      ],
      "text/plain": [
       "                                         Course Name Difficulty Level  \\\n",
       "0  Write,A,Feature,Length,Screenplay,For,Film,Or,...         Beginner   \n",
       "1  Business,Strategy,Business,Model,Canvas,Analys...         Beginner   \n",
       "2                      Silicon,Thin,Film,Solar,Cells         Advanced   \n",
       "3                               Finance,for,Managers     Intermediate   \n",
       "4       Retrieve,Data,using,Single-Table,SQL,Queries         Beginner   \n",
       "\n",
       "                                  Course Description  \\\n",
       "0  Write,a,Full,Length,Feature,Film,Script,In,thi...   \n",
       "1  By,the,end,of,this,guided,project,you,will,be,...   \n",
       "2  This,course,consists,of,a,general,presentation...   \n",
       "3  When,it,comes,to,numbers,there,is,always,more,...   \n",
       "4  In,this,course,you�ll,learn,how,to,effectively...   \n",
       "\n",
       "                                              Skills  \\\n",
       "0  Drama  Comedy  peering  screenwriting  film  D...   \n",
       "1  Finance  business plan  persona  user experien...   \n",
       "2  chemistry  physics  Solar Energy  film  lambda...   \n",
       "3  accounts receivable  dupont analysis  analysis...   \n",
       "4  Data Analysis  select  sql   database manageme...   \n",
       "\n",
       "                                                tags  \n",
       "0  Write,A,Feature,Length,Screenplay,For,Film,Or,...  \n",
       "1  Business,Strategy,Business,Model,Canvas,Analys...  \n",
       "2  Silicon,Thin,Film,Solar,CellsAdvancedThis,cour...  \n",
       "3  Finance,for,ManagersIntermediateWhen,it,comes,...  \n",
       "4  Retrieve,Data,using,Single-Table,SQL,QueriesBe...  "
      ]
     },
     "execution_count": 51,
     "metadata": {},
     "output_type": "execute_result"
    }
   ],
   "source": [
    "df.head(5)\n"
   ]
  },
  {
   "cell_type": "code",
   "execution_count": 52,
   "id": "150b98b5",
   "metadata": {},
   "outputs": [
    {
     "data": {
      "text/plain": [
       "'Business,Strategy,Business,Model,Canvas,Analysis,with,MiroBeginnerBy,the,end,of,this,guided,project,you,will,be,fluent,in,identifying,and,creating,Business,Model,Canvas,solutions,based,on,previous,high-level,analyses,and,research,data.,This,will,enable,you,to,identify,and,map,the,elements,required,for,new,products,and,services.,Furthermore,it,is,essential,for,generating,positive,results,for,your,business,venture.,This,guided,project,is,designed,to,engage,and,harness,your,visionary,and,exploratory,abilities.,You,will,use,proven,models,in,strategy,and,product,development,with,the,Miro,platform,to,explore,and,analyse,your,business,propositions.,,We,will,practice,critically,examining,results,from,previous,analysis,and,research,results,in,deriving,the,values,for,each,of,the,business,model,sections.Finance  business plan  persona  user experience   business model canvas  Planning  Business  project  Product Development  presentation  Strategy business business-strategy'"
      ]
     },
     "execution_count": 52,
     "metadata": {},
     "output_type": "execute_result"
    }
   ],
   "source": [
    "df['tags'].iloc[1]\n"
   ]
  },
  {
   "cell_type": "code",
   "execution_count": null,
   "id": "81886072",
   "metadata": {},
   "outputs": [],
   "source": [
    "******* New Dataframe created which include Course****"
   ]
  },
  {
   "cell_type": "code",
   "execution_count": 53,
   "id": "bdad40e3",
   "metadata": {},
   "outputs": [],
   "source": [
    "new_df = df[['Course Name','tags']]\n"
   ]
  },
  {
   "cell_type": "code",
   "execution_count": 73,
   "id": "af037575",
   "metadata": {},
   "outputs": [
    {
     "data": {
      "text/html": [
       "<div>\n",
       "<style scoped>\n",
       "    .dataframe tbody tr th:only-of-type {\n",
       "        vertical-align: middle;\n",
       "    }\n",
       "\n",
       "    .dataframe tbody tr th {\n",
       "        vertical-align: top;\n",
       "    }\n",
       "\n",
       "    .dataframe thead th {\n",
       "        text-align: right;\n",
       "    }\n",
       "</style>\n",
       "<table border=\"1\" class=\"dataframe\">\n",
       "  <thead>\n",
       "    <tr style=\"text-align: right;\">\n",
       "      <th></th>\n",
       "      <th>course_name</th>\n",
       "      <th>tags</th>\n",
       "    </tr>\n",
       "  </thead>\n",
       "  <tbody>\n",
       "    <tr>\n",
       "      <th>0</th>\n",
       "      <td>Write A Feature Length Screenplay For Film Or ...</td>\n",
       "      <td>write a featur length screenplay for film or t...</td>\n",
       "    </tr>\n",
       "    <tr>\n",
       "      <th>1</th>\n",
       "      <td>Business Strategy Business Model Canvas Analys...</td>\n",
       "      <td>busi strategi busi model canva analysi with mi...</td>\n",
       "    </tr>\n",
       "    <tr>\n",
       "      <th>2</th>\n",
       "      <td>Silicon Thin Film Solar Cells</td>\n",
       "      <td>silicon thin film solar cellsadvancedthi cours...</td>\n",
       "    </tr>\n",
       "    <tr>\n",
       "      <th>3</th>\n",
       "      <td>Finance for Managers</td>\n",
       "      <td>financ for managersintermediatewhen it come to...</td>\n",
       "    </tr>\n",
       "    <tr>\n",
       "      <th>4</th>\n",
       "      <td>Retrieve Data using Single-Table SQL Queries</td>\n",
       "      <td>retriev data use single-t sql queriesbeginneri...</td>\n",
       "    </tr>\n",
       "  </tbody>\n",
       "</table>\n",
       "</div>"
      ],
      "text/plain": [
       "                                         course_name  \\\n",
       "0  Write A Feature Length Screenplay For Film Or ...   \n",
       "1  Business Strategy Business Model Canvas Analys...   \n",
       "2                      Silicon Thin Film Solar Cells   \n",
       "3                               Finance for Managers   \n",
       "4       Retrieve Data using Single-Table SQL Queries   \n",
       "\n",
       "                                                tags  \n",
       "0  write a featur length screenplay for film or t...  \n",
       "1  busi strategi busi model canva analysi with mi...  \n",
       "2  silicon thin film solar cellsadvancedthi cours...  \n",
       "3  financ for managersintermediatewhen it come to...  \n",
       "4  retriev data use single-t sql queriesbeginneri...  "
      ]
     },
     "execution_count": 73,
     "metadata": {},
     "output_type": "execute_result"
    }
   ],
   "source": [
    "new_df.head(5)\n"
   ]
  },
  {
   "cell_type": "code",
   "execution_count": 74,
   "id": "623310bc",
   "metadata": {},
   "outputs": [
    {
     "name": "stderr",
     "output_type": "stream",
     "text": [
      "/var/folders/1r/9h5fqfbj7f77l6k9sl83hzfm0000gn/T/ipykernel_2294/829992559.py:1: SettingWithCopyWarning: \n",
      "A value is trying to be set on a copy of a slice from a DataFrame.\n",
      "Try using .loc[row_indexer,col_indexer] = value instead\n",
      "\n",
      "See the caveats in the documentation: https://pandas.pydata.org/pandas-docs/stable/user_guide/indexing.html#returning-a-view-versus-a-copy\n",
      "  new_df['tags'] = df['tags'].str.replace(',',' ')\n"
     ]
    }
   ],
   "source": [
    "new_df['tags'] = df['tags'].str.replace(',',' ')\n"
   ]
  },
  {
   "cell_type": "code",
   "execution_count": 56,
   "id": "79c7ce25",
   "metadata": {},
   "outputs": [
    {
     "name": "stderr",
     "output_type": "stream",
     "text": [
      "/var/folders/1r/9h5fqfbj7f77l6k9sl83hzfm0000gn/T/ipykernel_2294/2775492574.py:1: SettingWithCopyWarning: \n",
      "A value is trying to be set on a copy of a slice from a DataFrame.\n",
      "Try using .loc[row_indexer,col_indexer] = value instead\n",
      "\n",
      "See the caveats in the documentation: https://pandas.pydata.org/pandas-docs/stable/user_guide/indexing.html#returning-a-view-versus-a-copy\n",
      "  new_df['Course Name'] = df['Course Name'].str.replace(',',' ')\n"
     ]
    }
   ],
   "source": [
    "new_df['Course Name'] = df['Course Name'].str.replace(',',' ')\n"
   ]
  },
  {
   "cell_type": "code",
   "execution_count": 57,
   "id": "4e6894db",
   "metadata": {},
   "outputs": [
    {
     "name": "stderr",
     "output_type": "stream",
     "text": [
      "/var/folders/1r/9h5fqfbj7f77l6k9sl83hzfm0000gn/T/ipykernel_2294/2392020841.py:1: SettingWithCopyWarning: \n",
      "A value is trying to be set on a copy of a slice from a DataFrame\n",
      "\n",
      "See the caveats in the documentation: https://pandas.pydata.org/pandas-docs/stable/user_guide/indexing.html#returning-a-view-versus-a-copy\n",
      "  new_df.rename(columns = {'Course Name':'course_name'}, inplace = True)\n"
     ]
    }
   ],
   "source": [
    "new_df.rename(columns = {'Course Name':'course_name'}, inplace = True)\n"
   ]
  },
  {
   "cell_type": "code",
   "execution_count": 58,
   "id": "b565839a",
   "metadata": {},
   "outputs": [
    {
     "name": "stderr",
     "output_type": "stream",
     "text": [
      "/var/folders/1r/9h5fqfbj7f77l6k9sl83hzfm0000gn/T/ipykernel_2294/1775456458.py:1: SettingWithCopyWarning: \n",
      "A value is trying to be set on a copy of a slice from a DataFrame.\n",
      "Try using .loc[row_indexer,col_indexer] = value instead\n",
      "\n",
      "See the caveats in the documentation: https://pandas.pydata.org/pandas-docs/stable/user_guide/indexing.html#returning-a-view-versus-a-copy\n",
      "  new_df['tags'] = new_df['tags'].apply(lambda x:x.lower()) #lower casing the tags column\n"
     ]
    }
   ],
   "source": [
    "new_df['tags'] = new_df['tags'].apply(lambda x:x.lower()) #lower casing the tags column\n"
   ]
  },
  {
   "cell_type": "code",
   "execution_count": 59,
   "id": "4ed37be1",
   "metadata": {},
   "outputs": [
    {
     "data": {
      "text/html": [
       "<div>\n",
       "<style scoped>\n",
       "    .dataframe tbody tr th:only-of-type {\n",
       "        vertical-align: middle;\n",
       "    }\n",
       "\n",
       "    .dataframe tbody tr th {\n",
       "        vertical-align: top;\n",
       "    }\n",
       "\n",
       "    .dataframe thead th {\n",
       "        text-align: right;\n",
       "    }\n",
       "</style>\n",
       "<table border=\"1\" class=\"dataframe\">\n",
       "  <thead>\n",
       "    <tr style=\"text-align: right;\">\n",
       "      <th></th>\n",
       "      <th>course_name</th>\n",
       "      <th>tags</th>\n",
       "    </tr>\n",
       "  </thead>\n",
       "  <tbody>\n",
       "    <tr>\n",
       "      <th>0</th>\n",
       "      <td>Write A Feature Length Screenplay For Film Or ...</td>\n",
       "      <td>write a feature length screenplay for film or ...</td>\n",
       "    </tr>\n",
       "    <tr>\n",
       "      <th>1</th>\n",
       "      <td>Business Strategy Business Model Canvas Analys...</td>\n",
       "      <td>business strategy business model canvas analys...</td>\n",
       "    </tr>\n",
       "    <tr>\n",
       "      <th>2</th>\n",
       "      <td>Silicon Thin Film Solar Cells</td>\n",
       "      <td>silicon thin film solar cellsadvancedthis cour...</td>\n",
       "    </tr>\n",
       "    <tr>\n",
       "      <th>3</th>\n",
       "      <td>Finance for Managers</td>\n",
       "      <td>finance for managersintermediatewhen it comes ...</td>\n",
       "    </tr>\n",
       "    <tr>\n",
       "      <th>4</th>\n",
       "      <td>Retrieve Data using Single-Table SQL Queries</td>\n",
       "      <td>retrieve data using single-table sql queriesbe...</td>\n",
       "    </tr>\n",
       "  </tbody>\n",
       "</table>\n",
       "</div>"
      ],
      "text/plain": [
       "                                         course_name  \\\n",
       "0  Write A Feature Length Screenplay For Film Or ...   \n",
       "1  Business Strategy Business Model Canvas Analys...   \n",
       "2                      Silicon Thin Film Solar Cells   \n",
       "3                               Finance for Managers   \n",
       "4       Retrieve Data using Single-Table SQL Queries   \n",
       "\n",
       "                                                tags  \n",
       "0  write a feature length screenplay for film or ...  \n",
       "1  business strategy business model canvas analys...  \n",
       "2  silicon thin film solar cellsadvancedthis cour...  \n",
       "3  finance for managersintermediatewhen it comes ...  \n",
       "4  retrieve data using single-table sql queriesbe...  "
      ]
     },
     "execution_count": 59,
     "metadata": {},
     "output_type": "execute_result"
    }
   ],
   "source": [
    "new_df.head(5)\n"
   ]
  },
  {
   "cell_type": "code",
   "execution_count": 60,
   "id": "84b4b868",
   "metadata": {},
   "outputs": [],
   "source": [
    "from sklearn.feature_extraction.text import CountVectorizer\n"
   ]
  },
  {
   "cell_type": "code",
   "execution_count": 61,
   "id": "ebf8a629",
   "metadata": {},
   "outputs": [],
   "source": [
    "cv = CountVectorizer(max_features=5000,stop_words='english')\n"
   ]
  },
  {
   "cell_type": "code",
   "execution_count": 62,
   "id": "44e98151",
   "metadata": {},
   "outputs": [],
   "source": [
    "vectors = cv.fit_transform(new_df['tags']).toarray()\n"
   ]
  },
  {
   "cell_type": "code",
   "execution_count": 63,
   "id": "3e8cf866",
   "metadata": {},
   "outputs": [],
   "source": [
    "import nltk #for stemming process\n"
   ]
  },
  {
   "cell_type": "code",
   "execution_count": 33,
   "id": "faa127ff",
   "metadata": {},
   "outputs": [
    {
     "name": "stdout",
     "output_type": "stream",
     "text": [
      "Requirement already satisfied: nltk in ./opt/miniconda3/lib/python3.9/site-packages (3.8.1)\n",
      "Requirement already satisfied: joblib in ./opt/miniconda3/lib/python3.9/site-packages (from nltk) (1.2.0)\n",
      "Requirement already satisfied: regex>=2021.8.3 in ./opt/miniconda3/lib/python3.9/site-packages (from nltk) (2022.10.31)\n",
      "Requirement already satisfied: tqdm in ./opt/miniconda3/lib/python3.9/site-packages (from nltk) (4.63.0)\n",
      "Requirement already satisfied: click in ./opt/miniconda3/lib/python3.9/site-packages (from nltk) (8.1.3)\n",
      "Note: you may need to restart the kernel to use updated packages.\n"
     ]
    }
   ],
   "source": [
    "pip install nltk"
   ]
  },
  {
   "cell_type": "code",
   "execution_count": 64,
   "id": "bd15fda1",
   "metadata": {},
   "outputs": [],
   "source": [
    "from nltk.stem.porter import PorterStemmer\n",
    "ps = PorterStemmer()\n"
   ]
  },
  {
   "cell_type": "code",
   "execution_count": 65,
   "id": "bdbbdf91",
   "metadata": {},
   "outputs": [],
   "source": [
    "#defining the stemming function\n",
    "def stem(text):\n",
    "    y=[]\n",
    "    \n",
    "    for i in text.split():\n",
    "        y.append(ps.stem(i))\n",
    "    \n",
    "    return \" \".join(y)\n"
   ]
  },
  {
   "cell_type": "code",
   "execution_count": 66,
   "id": "fc2d5703",
   "metadata": {},
   "outputs": [
    {
     "name": "stderr",
     "output_type": "stream",
     "text": [
      "/var/folders/1r/9h5fqfbj7f77l6k9sl83hzfm0000gn/T/ipykernel_2294/3854118612.py:1: SettingWithCopyWarning: \n",
      "A value is trying to be set on a copy of a slice from a DataFrame.\n",
      "Try using .loc[row_indexer,col_indexer] = value instead\n",
      "\n",
      "See the caveats in the documentation: https://pandas.pydata.org/pandas-docs/stable/user_guide/indexing.html#returning-a-view-versus-a-copy\n",
      "  new_df['tags'] = new_df['tags'].apply(stem) #applying stemming on the tags column\n"
     ]
    }
   ],
   "source": [
    "new_df['tags'] = new_df['tags'].apply(stem) #applying stemming on the tags column\n"
   ]
  },
  {
   "cell_type": "code",
   "execution_count": 67,
   "id": "42670e12",
   "metadata": {},
   "outputs": [],
   "source": [
    "from sklearn.metrics.pairwise import cosine_similarity\n"
   ]
  },
  {
   "cell_type": "code",
   "execution_count": 68,
   "id": "4c02868b",
   "metadata": {},
   "outputs": [],
   "source": [
    "similarity = cosine_similarity(vectors)\n"
   ]
  },
  {
   "cell_type": "code",
   "execution_count": 69,
   "id": "13dcba45",
   "metadata": {},
   "outputs": [],
   "source": [
    "def recommend(course):\n",
    "    course_index = new_df[new_df['course_name'] == course].index[0]\n",
    "    distances = similarity[course_index]\n",
    "    course_list = sorted(list(enumerate(distances)),reverse=True, key=lambda x:x[1])[1:7]\n",
    "    \n",
    "    for i in course_list:\n",
    "        print(new_df.iloc[i[0]].course_name)\n"
   ]
  },
  {
   "cell_type": "code",
   "execution_count": 70,
   "id": "02a1429f",
   "metadata": {},
   "outputs": [
    {
     "name": "stdout",
     "output_type": "stream",
     "text": [
      "Product Development Customer Persona Development with Miro\n",
      "Product and Service Development Empathy Mapping with Miro\n",
      "Product Development Customer Journey Mapping with Miro\n",
      "Analyzing Macro-Environmental Factors Using Creately\n",
      "Business Strategy in Practice (Project-centered Course)\n",
      "Innovating with the Business Model Canvas\n"
     ]
    }
   ],
   "source": [
    "recommend('Business Strategy Business Model Canvas Analysis with Miro') \n"
   ]
  },
  {
   "cell_type": "code",
   "execution_count": 71,
   "id": "b1a34f26",
   "metadata": {},
   "outputs": [],
   "source": [
    "import pickle\n"
   ]
  },
  {
   "cell_type": "code",
   "execution_count": null,
   "id": "4eba0aa9",
   "metadata": {},
   "outputs": [],
   "source": []
  }
 ],
 "metadata": {
  "kernelspec": {
   "display_name": "Python 3 (ipykernel)",
   "language": "python",
   "name": "python3"
  },
  "language_info": {
   "codemirror_mode": {
    "name": "ipython",
    "version": 3
   },
   "file_extension": ".py",
   "mimetype": "text/x-python",
   "name": "python",
   "nbconvert_exporter": "python",
   "pygments_lexer": "ipython3",
   "version": "3.9.12"
  }
 },
 "nbformat": 4,
 "nbformat_minor": 5
}
